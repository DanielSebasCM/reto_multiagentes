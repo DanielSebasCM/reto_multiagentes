{
 "cells": [
  {
   "cell_type": "code",
   "execution_count": 1,
   "metadata": {},
   "outputs": [],
   "source": [
    "from mesa import Model \n",
    "from mesa.space import MultiGrid\n",
    "from mesa.time import RandomActivation\n",
    "from mesa.datacollection import DataCollector\n",
    "\n",
    "import numpy as np\n",
    "import pandas as pd"
   ]
  },
  {
   "cell_type": "code",
   "execution_count": null,
   "metadata": {},
   "outputs": [],
   "source": [
    "class StorageModel(Model):\n",
    "    def __init__(self, width, height, explorers, collectors):\n",
    "        self.width = width\n",
    "        self.height = height\n",
    "        self.explorers = explorers\n",
    "        self.collectors = collectors\n",
    "\n",
    "        self.grid = MultiGrid(width, height, False)\n",
    "        self.known = np.zeros((width, height), nDtype=int)\n",
    "        self.real = np.zeros((width, height), nDtype=int)\n",
    "        self.schedule = RandomActivation(self)\n",
    "        # self.datacollector = DataCollector(model_reporters={\"Grid\": get_grid})\n",
    "        \n",
    "        for i in range(1, (diff_types + 1)):\n",
    "            for j in range(amount):\n",
    "                a = SegregationAgent(id, self, i, threshold, radius, empty_threshold)\n",
    "                self.grid.move_to_empty(a)\n",
    "                self.schedule.add(a)\n",
    "    \n",
    "    def step(self):\n",
    "        # self.datacollector.collect(self)\n",
    "        self.schedule.step()"
   ]
  }
 ],
 "metadata": {
  "kernelspec": {
   "display_name": "reto",
   "language": "python",
   "name": "python3"
  },
  "language_info": {
   "codemirror_mode": {
    "name": "ipython",
    "version": 3
   },
   "file_extension": ".py",
   "mimetype": "text/x-python",
   "name": "python",
   "nbconvert_exporter": "python",
   "pygments_lexer": "ipython3",
   "version": "3.10.12"
  }
 },
 "nbformat": 4,
 "nbformat_minor": 2
}
