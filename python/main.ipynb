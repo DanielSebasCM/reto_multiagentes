{
 "cells": [
  {
   "cell_type": "code",
   "execution_count": 1,
   "metadata": {},
   "outputs": [],
   "source": [
    "from StorageModel import StorageModel\n",
    "from mesa.batchrunner import batch_run\n",
    "\n",
    "%matplotlib inline\n",
    "import matplotlib.pyplot as plt\n",
    "import matplotlib.animation as animation\n",
    "from matplotlib import rc\n",
    "rc('animation', html='jshtml')\n",
    "\n",
    "import numpy as np\n",
    "import pandas as pd\n",
    "\n",
    "import time\n",
    "\n",
    "from IPython import display"
   ]
  },
  {
   "cell_type": "code",
   "execution_count": 2,
   "metadata": {},
   "outputs": [],
   "source": [
    "MAX_STEPS = 1500\n",
    "GRID_WIDTH = 20\n",
    "GRID_HEIGH = 20\n",
    "N_EXPLORERS = 2\n",
    "N_COLELCTORS = 3\n",
    "MAX_FOOD = 47"
   ]
  },
  {
   "cell_type": "code",
   "execution_count": 3,
   "metadata": {},
   "outputs": [],
   "source": [
    "model = StorageModel((GRID_WIDTH, GRID_HEIGH),\n",
    "                     (N_EXPLORERS, N_COLELCTORS), MAX_FOOD, True)\n",
    "\n",
    "for _ in range(MAX_STEPS):\n",
    "    model.step()\n",
    "    if not model.running:\n",
    "        break"
   ]
  },
  {
   "cell_type": "code",
   "execution_count": 4,
   "metadata": {},
   "outputs": [
    {
     "name": "stdout",
     "output_type": "stream",
     "text": [
      "421\n"
     ]
    }
   ],
   "source": [
    "data = model.datacollector.get_model_vars_dataframe()\n",
    "print(len(data))"
   ]
  },
  {
   "cell_type": "code",
   "execution_count": 5,
   "metadata": {},
   "outputs": [],
   "source": [
    "def animate(data):\n",
    "    fig, axs = plt.subplots(figsize=(3, 3))\n",
    "    axs.set_xticks([])\n",
    "    axs.set_yticks([])\n",
    "    patch = plt.imshow(data[len(data) - 1], cmap=plt.cm.binary)\n",
    "    plt.clim(0, 3)\n",
    "    plt.close()\n",
    "    anim = animation.FuncAnimation(\n",
    "        fig, lambda i: patch.set_data(data[i]), frames=len(data))\n",
    "    render = anim.to_jshtml()\n",
    "\n",
    "    return render"
   ]
  },
  {
   "cell_type": "code",
   "execution_count": 6,
   "metadata": {},
   "outputs": [],
   "source": [
    "\n",
    "# known = data.get(\"Known\")\n",
    "# real = data.get(\"Real\")\n",
    "# agents = data.get(\"Agents\")\n",
    "\n",
    "# r1 = animate(known)\n",
    "# r2 = animate(real)\n",
    "# r3 = animate(agents)"
   ]
  },
  {
   "cell_type": "code",
   "execution_count": 7,
   "metadata": {},
   "outputs": [],
   "source": [
    "# display.HTML(r1)"
   ]
  },
  {
   "cell_type": "code",
   "execution_count": 8,
   "metadata": {},
   "outputs": [],
   "source": [
    "# display.HTML(r2)"
   ]
  },
  {
   "cell_type": "code",
   "execution_count": 9,
   "metadata": {},
   "outputs": [],
   "source": [
    "# display.HTML(r3)"
   ]
  },
  {
   "cell_type": "code",
   "execution_count": 10,
   "metadata": {},
   "outputs": [
    {
     "name": "stdout",
     "output_type": "stream",
     "text": [
      "[(1, 1), (1, 2), (2, 1), (1, 3), (2, 2), (3, 1), (1, 4), (2, 3), (3, 2), (4, 1), (1, 5), (2, 4), (3, 3), (4, 2), (5, 1), (1, 6), (2, 5), (3, 4), (4, 3), (5, 2), (6, 1)]\n"
     ]
    }
   ],
   "source": [
    "agents_counts = []\n",
    "\n",
    "for i in range(2, 8):\n",
    "    agents = list(zip(range(1, i), reversed(range(1, i))))\n",
    "    agents_counts.extend(agents)\n",
    "\n",
    "print(agents_counts)"
   ]
  },
  {
   "cell_type": "code",
   "execution_count": 11,
   "metadata": {},
   "outputs": [
    {
     "data": {
      "application/vnd.jupyter.widget-view+json": {
       "model_id": "d960ff4caeb54f679a5fd50cc2786c0c",
       "version_major": 2,
       "version_minor": 0
      },
      "text/plain": [
       "  0%|          | 0/94 [00:00<?, ?it/s]"
      ]
     },
     "metadata": {},
     "output_type": "display_data"
    }
   ],
   "source": [
    "changing_food = batch_run(StorageModel, {\n",
    "    \"shape\": [(GRID_WIDTH, GRID_HEIGH)],\n",
    "    \"agents\": [(2, 3)],\n",
    "    \"max_food\": range(MAX_FOOD*2),\n",
    "    # \"max_food\": 2,\n",
    "    \"render\": [False],\n",
    "    \"simulating\": [True]\n",
    "}, max_steps=MAX_STEPS, number_processes=16)"
   ]
  },
  {
   "cell_type": "markdown",
   "metadata": {},
   "source": []
  },
  {
   "cell_type": "code",
   "execution_count": 18,
   "metadata": {},
   "outputs": [
    {
     "data": {
      "text/plain": [
       "[<matplotlib.lines.Line2D at 0x7fca93c332e0>]"
      ]
     },
     "execution_count": 18,
     "metadata": {},
     "output_type": "execute_result"
    },
    {
     "data": {
      "image/png": "[encoded data removed]",
      "text/plain": [
       "<Figure size 640x480 with 1 Axes>"
      ]
     },
     "metadata": {},
     "output_type": "display_data"
    }
   ],
   "source": [
    "changing_food.sort(key=lambda x: x.get(\"max_food\"))\n",
    "steps = list(map(lambda x: x.get(\"Steps\"), changing_food))\n",
    "max_foods = list(map(lambda x: x.get(\"max_food\"), changing_food))\n",
    "plt.plot(max_foods, steps)\n"
   ]
  }
 ],
 "metadata": {
  "kernelspec": {
   "display_name": "Python 3.12.0 64-bit",
   "language": "python",
   "name": "python3"
  },
  "language_info": {
   "codemirror_mode": {
    "name": "ipython",
    "version": 3
   },
   "file_extension": ".py",
   "mimetype": "text/x-python",
   "name": "python",
   "nbconvert_exporter": "python",
   "pygments_lexer": "ipython3",
   "version": "3.10.12"
  },
  "vscode": {
   "interpreter": {
    "hash": "7959f01fb9497495954d191fbe8d478d783669989d99972355b653934c5e658c"
   }
  }
 },
 "nbformat": 4,
 "nbformat_minor": 2
}
